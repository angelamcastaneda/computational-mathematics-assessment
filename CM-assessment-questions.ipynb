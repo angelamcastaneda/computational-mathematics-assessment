{
 "cells": [
  {
   "attachments": {},
   "cell_type": "markdown",
   "metadata": {},
   "source": [
    "# Computational Mathematics Assessment "
   ]
  },
  {
   "cell_type": "markdown",
   "metadata": {},
   "source": [
    "# Question 1\n",
    "\n",
    "Compute the rank and the nullity for the matrix\n",
    "\n",
    "$$ A =\n",
    "\\begin{pmatrix}\n",
    "-2 & 2 & 24 \\\\\n",
    "-1 & 3 & 30 \\\\\n",
    "2 & 4 & -12\n",
    "\\end{pmatrix}\n",
    "$$\n",
    "\n",
    "using both \"pen and paper\" as well as Python code.\n",
    "\n",
    "Describe the null space for this problem, and provide an example of how the null space you have computed for this example allows you to construct infinitely many solutions to any linear system with this $A$ matrix.\n",
    "\n",
    "\n",
    "<br> <br>\n",
    "\n",
    "\n",
    "Diagonalise the matrix\n",
    "\n",
    "$$ A =\n",
    "\\begin{pmatrix}\n",
    "-3 & -2  \\\\\n",
    "3 & 4 \n",
    "\\end{pmatrix}\n",
    "$$\n",
    "\n",
    "using \"pen and paper\" and compare your result against a solution obtained using Python.\n"
   ]
  },
  {
   "cell_type": "markdown",
   "metadata": {},
   "source": [
    "# Question 2\n",
    "\n",
    "<br>\n",
    "\n",
    "Consider the two $(x,y)$ data points $(0,0.5)$ and $(1,1)$\n",
    "\n",
    "Derive by hand (\"pen and paper\") the Lagrange basis functions and thus the Lagrange polynomial that passes through these two points. Show (e.g. through a plot) that your result agrees with the result you can obtain using SciPy.\n",
    "\n",
    "<br><br>\n",
    "\n",
    "Now add a third point of your choosing at $x=0.3$ and repeat the above.\n",
    "\n",
    "<br><br>\n",
    "\n",
    "How can you add arbitrarily many additional points such that the Lagrange polynomial you have computed just now in the case of three data points is still an interpolant of all the data points? Give some examples."
   ]
  },
  {
   "cell_type": "markdown",
   "metadata": {},
   "source": [
    "# Question 3\n",
    "\n",
    "\n",
    "Recall that the trapezoidal quadrature rule can be written as\n",
    "\n",
    "$$I_T := \\sum_{i=0}^{n-1}\\, \\left(\\frac{f(x_{i+1}) + f(x_{i})}{2}\\right )\\, (x_{i+1}-x_i). $$\n",
    "\n",
    "This provides an approximation to the integral of the function $f(x)$ over the interval spanned\n",
    "by the equally spaced $x_i$ locations, i.e. \n",
    "\n",
    "$$I_T\\approx \\int_{x_0}^{x_n} f(x)\\, dx.$$\n",
    "\n",
    "\n",
    "<br>\n",
    "\n",
    "Verify an implementation of this method by checking for convergence using the problem\n",
    "\n",
    "$$\\int_0^1 \\exp(x)\\, dx = \\exp(1) - \\exp(0) = \\exp(1) - 1$$\n",
    "\n",
    "<br>\n",
    "\n",
    "You should find that the Trapezoidal rule is second order accurate, i.e. the error reduces by a factor of 4 if we double the number of intervals (equivalently make the interval size half the size).\n",
    "\n",
    "This means that we can combine the results from two evaluations of the trapezoidal rule obtained using two different $\\Delta x$ values in order to cancel the leading order error term and arrive at a more accurate result.\n",
    "\n",
    "Using the notation $I_T$ for the output of the trapezoidal rule with $n$ intervals, and $I_{T_2}$ for the output with $2n$ intervals, explain why the result\n",
    "\n",
    "$$I = \\frac{1}{3}\\left( 4I_{T_2} - I_T \\right)$$\n",
    "\n",
    "can be expected to yield a more accurate approximation to the integral than either $I_T$ or $I_{T_2}$ alone. \n",
    "\n",
    "Using the test case function from earlier in this question, implement this method and demonstrate its improved accuracy.\n",
    "\n",
    "<br>\n",
    "\n",
    "Implement the composite version of Simpson's rule, and demonstrate that it provides results equivalent to the the new rule \n",
    "\n",
    "$$I = \\frac{1}{3}\\left( 4I_{T_2} - I_T \\right)$$\n",
    "\n",
    "<br>\n",
    "\n",
    "Demonstrate mathematically that the form of this new rule (i.e. in the form of the weighted summation of function evaluations it takes) is equivalent to Simpson's rule."
   ]
  }
 ],
 "metadata": {
  "celltoolbar": "Slideshow",
  "kernelspec": {
   "display_name": "Python 3",
   "language": "python",
   "name": "python3"
  },
  "language_info": {
   "codemirror_mode": {
    "name": "ipython",
    "version": 3
   },
   "file_extension": ".py",
   "mimetype": "text/x-python",
   "name": "python",
   "nbconvert_exporter": "python",
   "pygments_lexer": "ipython3",
   "version": "3.7.3"
  },
  "latex_envs": {
   "LaTeX_envs_menu_present": true,
   "autoclose": false,
   "autocomplete": true,
   "bibliofile": "biblio.bib",
   "cite_by": "apalike",
   "current_citInitial": 1,
   "eqLabelWithNumbers": true,
   "eqNumInitial": 1,
   "hotkeys": {
    "equation": "Ctrl-E",
    "itemize": "Ctrl-I"
   },
   "labels_anchors": false,
   "latex_user_defs": false,
   "report_style_numbering": false,
   "user_envs_cfg": false
  },
  "toc": {
   "base_numbering": 1,
   "nav_menu": {},
   "number_sections": true,
   "sideBar": true,
   "skip_h1_title": false,
   "title_cell": "Table of Contents",
   "title_sidebar": "Contents",
   "toc_cell": true,
   "toc_position": {},
   "toc_section_display": true,
   "toc_window_display": false
  }
 },
 "nbformat": 4,
 "nbformat_minor": 1
}
