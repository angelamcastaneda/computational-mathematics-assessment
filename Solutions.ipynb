{
 "cells": [
  {
   "cell_type": "code",
   "execution_count": 1,
   "id": "806a0b34",
   "metadata": {},
   "outputs": [],
   "source": [
    "%matplotlib inline\n",
    "%precision 6\n",
    "import numpy as np\n",
    "import matplotlib.pyplot as plt\n",
    "import scipy.linalg as sl\n",
    "from pprint import pprint"
   ]
  },
  {
   "cell_type": "markdown",
   "id": "8450b771",
   "metadata": {},
   "source": [
    "# Question 1.A\n",
    "\n",
    "Compute the rank and the nullity for the matrix\n",
    "\n",
    "$$ A =\n",
    "\\begin{pmatrix}\n",
    "-2 & 2 & 24 \\\\\n",
    "-1 & 3 & 30 \\\\\n",
    "2 & 4 & -12\n",
    "\\end{pmatrix}\n",
    "$$\n",
    "\n",
    "using both \"pen and paper\" as well as Python code.\n",
    "\n",
    "Describe the null space for this problem. \n",
    "\n",
    "# Question 1.B\n",
    "\n",
    "Repeat question 1.A for the following matrix:\n",
    "\n",
    "$$ A =\n",
    "\\begin{pmatrix}\n",
    "-2 & 2 & 24 \\\\\n",
    "-1 & 3 & 30 \\\\\n",
    "2 & 0 & -6\n",
    "\\end{pmatrix}\n",
    "$$\n",
    "\n",
    "Also, when describing the null space for this problem, provide an example of how the null space you have computed for this example allows you to construct infinitely many solutions to any linear system with this $A$ matrix.\n",
    "\n",
    "\n",
    "# Question 1.C\n",
    "\n",
    "\n",
    "Diagonalise the matrix\n",
    "\n",
    "$$ A =\n",
    "\\begin{pmatrix}\n",
    "-3 & -2  \\\\\n",
    "3 & 4 \n",
    "\\end{pmatrix}\n",
    "$$\n",
    "\n",
    "using \"pen and paper\" and compare your result against a solution obtained using Python.\n"
   ]
  },
  {
   "cell_type": "markdown",
   "id": "428f5e50",
   "metadata": {},
   "source": [
    "# Solution to Question 1.A"
   ]
  },
  {
   "cell_type": "markdown",
   "id": "0bd5ec42",
   "metadata": {},
   "source": [
    "## Using \"pen and paper\""
   ]
  },
  {
   "cell_type": "markdown",
   "id": "cdf4d08c",
   "metadata": {},
   "source": [
    "To compute the rank of matrix $A$ we will have to perform Gaussian elimination on it until we achieve a matrix $B$ in Row echelon form."
   ]
  },
  {
   "cell_type": "markdown",
   "id": "b8dfbe56",
   "metadata": {},
   "source": [
    "\\begin{align*}\n",
    "  \\begin{pmatrix}\n",
    "    -2 & 2 & 24 \\\\\n",
    "    -1 & 3 & 30 \\\\\n",
    "    2 & 4 & -12\n",
    "    \\end{pmatrix}\n",
    "\\space \\xrightarrow {(1) \\space \\leftarrow \\space -(1)/2} \\space\n",
    "  \\begin{pmatrix}\n",
    "    1 & -1 & -12 \\\\\n",
    "    -1 & 3 & 30 \\\\\n",
    "    2 & 4 & -12\n",
    "    \\end{pmatrix}\n",
    "\\space \\xrightarrow {(2) \\space \\leftarrow \\space (2)+(1)} \\space\n",
    "  \\begin{pmatrix}\n",
    "    1 & -1 & -12 \\\\\n",
    "    0 & 2 & 18 \\\\\n",
    "    2 & 4 & -12\n",
    "    \\end{pmatrix}\n",
    "\\end{align*}\n",
    "\n",
    "\\begin{align*}\n",
    "\\space \\xrightarrow {(3) \\space \\leftarrow \\space (3)-2(1)} \\space\n",
    "  \\begin{pmatrix}\n",
    "    1 & -1 & -12 \\\\\n",
    "    0 & 2 & 18 \\\\\n",
    "    0 & 6 & 12\n",
    "    \\end{pmatrix}\n",
    "\\space \\xrightarrow {(2) \\space \\leftarrow \\space (2)/2} \\space\n",
    "  \\begin{pmatrix}\n",
    "    1 & -1 & -12 \\\\\n",
    "    0 & 1 & 9 \\\\\n",
    "    0 & 6 & 12\n",
    "    \\end{pmatrix}\n",
    "\\space \\xrightarrow {(3) \\space \\leftarrow \\space (3)/6} \\space\n",
    "  \\begin{pmatrix}\n",
    "    1 & -1 & -12 \\\\\n",
    "    0 & 1 & 9 \\\\\n",
    "    0 & 1 & 2\n",
    "    \\end{pmatrix}\n",
    "\\end{align*}\n",
    "\n",
    "\\begin{align*}\n",
    "\\space \\xrightarrow {(3) \\space \\leftarrow \\space (3)-(2)} \\space\n",
    "  \\begin{pmatrix}\n",
    "    1 & -1 & -12 \\\\\n",
    "    0 & 1 & 9 \\\\\n",
    "    0 & 0 & -7\n",
    "    \\end{pmatrix}\n",
    "\\space \\xrightarrow {(3) \\space \\leftarrow \\space -(3)/7} \\space\n",
    "  \\begin{pmatrix}\n",
    "    1 & -1 & -12 \\\\\n",
    "    0 & 1 & 9 \\\\\n",
    "    0 & 0 & 1\n",
    "    \\end{pmatrix}\n",
    "\\end{align*}"
   ]
  },
  {
   "cell_type": "markdown",
   "id": "441dd47f",
   "metadata": {},
   "source": [
    "Since the result is in echelon form and it does not contain rows consisting entirely of zeros, then:\n",
    "\n",
    "$$ rank(B) = 3 \\Rightarrow rank(A) = 3 $$\n",
    "   \n",
    "Also, by the rank-nullity theorem we can conclude that the dimention of the null space of $A$ is zero. Therefore, the only vector $x$ such that $Ax = 0$ is $x=0$"
   ]
  },
  {
   "cell_type": "markdown",
   "id": "72fb0f44",
   "metadata": {},
   "source": [
    "### Explanation: \n",
    "\n",
    "1. The rank of $A$ is the dimention of its Range i.e. the space spanned by its columns. \n",
    "However, the rank of $A$ is also equivalent to the dimention of the space spanned by its rows. \n",
    "<br>\n",
    "\n",
    "2. Gaussian elimination consists of the following row operations:\n",
    "\n",
    "- multiply each row by a non-zero scalar\n",
    "- add multiples of one row to another\n",
    "- swap rows\n",
    "\n",
    "and none of those operations modify the image of the space spanned by the rows.\n",
    "\n",
    "3. Therefore, if we perform these row operations on matrix $A$ until we achieve a matrix $B$ in row echelon form, then rank(A) = rank(B)\n",
    "\n",
    "and rank(B) is the number of rows that are NOT made up of zero entries only."
   ]
  },
  {
   "cell_type": "markdown",
   "id": "4c07c062",
   "metadata": {},
   "source": [
    "## Using Python code"
   ]
  },
  {
   "cell_type": "code",
   "execution_count": 2,
   "id": "ba69c695",
   "metadata": {},
   "outputs": [
    {
     "name": "stdout",
     "output_type": "stream",
     "text": [
      "[[ -2   2  24]\n",
      " [ -1   3  30]\n",
      " [  2   4 -12]]\n",
      "\n",
      "\n",
      "The rank of matrix A: 3\n",
      "\n",
      "\n",
      "The null space of matrix A: []\n",
      "\n",
      "\n",
      "The nullity of matrix A: 0\n"
     ]
    }
   ],
   "source": [
    "#We define the matrix A\n",
    "A = np.array([[-2,2,24],[-1,3,30],[2,4,-12]])\n",
    "print(A)\n",
    "print(\"\\n\")\n",
    "\n",
    "#We calculate the rank \n",
    "rank = np.linalg.matrix_rank(A)\n",
    "print(\"The rank of matrix A:\",rank)\n",
    "print(\"\\n\")\n",
    "\n",
    "#And we calculate a basis for the null space\n",
    "null_space = sl.null_space(A).T\n",
    "print(\"The null space of matrix A:\",null_space)\n",
    "print(\"\\n\")\n",
    "\n",
    "#We calculate the nullity of matrix A\n",
    "nullity = len(null_space)\n",
    "print(\"The nullity of matrix A:\", nullity )\n"
   ]
  },
  {
   "cell_type": "markdown",
   "id": "2cca3344",
   "metadata": {},
   "source": [
    "# Solution to Question 1.B"
   ]
  },
  {
   "cell_type": "markdown",
   "id": "94b5a109",
   "metadata": {},
   "source": [
    "## Using \"pen and paper\""
   ]
  },
  {
   "cell_type": "markdown",
   "id": "b5668910",
   "metadata": {},
   "source": [
    "Again, we perform Gaussian elimination on matrix $A$ until we achieve a matrix $B$ in Row echelon form."
   ]
  },
  {
   "cell_type": "markdown",
   "id": "7d8d8b57",
   "metadata": {},
   "source": [
    "\\begin{align*}\n",
    "  \\begin{pmatrix}\n",
    "    -2 & 2 & 24 \\\\\n",
    "    -1 & 3 & 30 \\\\\n",
    "    2 & 0 & -6\n",
    "    \\end{pmatrix}\n",
    "\\space \\xrightarrow {(1) \\space \\leftarrow \\space -(1)/2} \\space\n",
    "  \\begin{pmatrix}\n",
    "    1 & -1 & -12 \\\\\n",
    "    -1 & 3 & 30 \\\\\n",
    "    2 & 0 & -6\n",
    "    \\end{pmatrix}\n",
    "\\space \\xrightarrow {(2) \\space \\leftarrow \\space (2)+(1)} \\space\n",
    "  \\begin{pmatrix}\n",
    "    1 & -1 & -12 \\\\\n",
    "    0 & 2 & 18 \\\\\n",
    "    2 & 0 & -6\n",
    "    \\end{pmatrix}\n",
    "\\end{align*}\n",
    "\n",
    "\\begin{align*}\n",
    "\\space \\xrightarrow {(3) \\space \\leftarrow \\space (3)-2(1)} \\space\n",
    "  \\begin{pmatrix}\n",
    "    1 & -1 & -12 \\\\\n",
    "    0 & 2 & 18 \\\\\n",
    "    0 & 2 & 18\n",
    "    \\end{pmatrix}\n",
    "\\space \\xrightarrow {(2) \\space \\leftarrow \\space (2)/2} \\space\n",
    "  \\begin{pmatrix}\n",
    "    1 & -1 & -12 \\\\\n",
    "    0 & 1 & 9 \\\\\n",
    "    0 & 2 & 18\n",
    "    \\end{pmatrix}\n",
    "\\space \\xrightarrow {(3) \\space \\leftarrow \\space (3)/2} \\space\n",
    "  \\begin{pmatrix}\n",
    "    1 & -1 & -12 \\\\\n",
    "    0 & 1 & 9 \\\\\n",
    "    0 & 1 & 9\n",
    "    \\end{pmatrix}\n",
    "\\end{align*}\n",
    "\n",
    "\\begin{align*}\n",
    "\\space \\xrightarrow {(3) \\space \\leftarrow \\space (3)-(2)} \\space\n",
    "  \\begin{pmatrix}\n",
    "    1 & -1 & -12 \\\\\n",
    "    0 & 1 & 9 \\\\\n",
    "    0 & 0 & 0\n",
    "    \\end{pmatrix}\n",
    "\\end{align*}"
   ]
  },
  {
   "cell_type": "markdown",
   "id": "b22df3e1",
   "metadata": {},
   "source": [
    "Since the result is in echelon form and it contains 2 non-zero rows , then:\n",
    "\n",
    "rank(B) = 2  ⇒  rank(A) = 2\n",
    "\n",
    "Also, by the rank-nullity theorem we can conclude that the dimention of the null space of $A$  is 1. "
   ]
  },
  {
   "cell_type": "markdown",
   "id": "305b2374",
   "metadata": {},
   "source": [
    "To find a basis for the null space of $A$ we need to find a vector $x$ such that $Ax = 0$,\n",
    "which is equivalent to finding a vector such that $Bx = 0$ given that $B$ can be obtained from $A$ by the premultiplication of [elementary matrices](https://en.wikipedia.org/wiki/Elementary_matrix).\n",
    "\n",
    "\\begin{align*}\n",
    "  \\begin{pmatrix}\n",
    "    1 & -1 & -12 \\\\\n",
    "    0 & 1 & 9 \\\\\n",
    "    0 & 0 & 0\n",
    "    \\end{pmatrix}\n",
    "    \\begin{pmatrix}\n",
    "    x \\\\\n",
    "    y \\\\\n",
    "    z\n",
    "  \\end{pmatrix}=\n",
    "  \\begin{pmatrix}\n",
    "    0 \\\\\n",
    "    0 \\\\\n",
    "    0 \n",
    "  \\end{pmatrix}  \n",
    "\\end{align*}\n",
    "\n",
    "This leaves us with the following equations\n",
    "\n",
    "\\begin{align*}\n",
    "  x - y -12z &= 0 \\\\[5pt]\n",
    "   y + 9z &= 0\n",
    "\\end{align*}\n",
    "\n",
    "And to solve them we just need to fix one of the variables. \n",
    "\n",
    "Let $z=1$, then $\\begin{pmatrix}\n",
    "    3 \\\\\n",
    "    -9 \\\\\n",
    "    1\n",
    "  \\end{pmatrix}$ is a solution, and this vector is also a basis for the null space of $A$."
   ]
  },
  {
   "cell_type": "markdown",
   "id": "6396d787",
   "metadata": {},
   "source": [
    "It is easy to verify that\n",
    "\n",
    "\\begin{align*}\n",
    "  \\begin{pmatrix}\n",
    "    1 & -1 & -12 \\\\\n",
    "    0 & 1 & 9 \\\\\n",
    "    0 & 0 & 0\n",
    "    \\end{pmatrix}\n",
    "    \\begin{pmatrix}\n",
    "    3 \\\\\n",
    "    -9 \\\\\n",
    "    1\n",
    "  \\end{pmatrix}=\n",
    "  \\begin{pmatrix}\n",
    "    0 \\\\\n",
    "    0 \\\\\n",
    "    0 \n",
    "  \\end{pmatrix}  \n",
    "  \\quad & \\quad\n",
    "  \\begin{pmatrix}\n",
    "    -2 & 2 & 24 \\\\\n",
    "    -1 & 3 & 30 \\\\\n",
    "    2 & 0 & -6\n",
    "    \\end{pmatrix}\n",
    "    \\begin{pmatrix}\n",
    "    3 \\\\\n",
    "    -9 \\\\\n",
    "    1\n",
    "  \\end{pmatrix}=\n",
    "  \\begin{pmatrix}\n",
    "    0 \\\\\n",
    "    0 \\\\\n",
    "    0 \n",
    "  \\end{pmatrix}  \n",
    "\\end{align*}"
   ]
  },
  {
   "cell_type": "markdown",
   "id": "d3fe5f0b",
   "metadata": {},
   "source": [
    "#### Also, when describing the null space for this problem, provide an example of how the null space you have computed for this example allows you to construct infinitely many solutions to any linear system with this  𝐴  matrix."
   ]
  },
  {
   "cell_type": "markdown",
   "id": "560b8a4a",
   "metadata": {},
   "source": [
    "Suppose we have the followig problem:\n",
    "    $$ Ax=b  \n",
    "    \\quad  \\quad\n",
    "    A = \\begin{pmatrix}\n",
    "    -2 & 2 & 24 \\\\\n",
    "    -1 & 3 & 30 \\\\\n",
    "    2 & 0 & -6\n",
    "    \\end{pmatrix} $$\n",
    "    \n",
    "As we already know, since A does not have rank 3, it is not always possible to find $x$ for every $b$. However, suppose for a moment that $Ax=b$ has at least one solution $x_{0}$.\n",
    "\n",
    "$\\Rightarrow Ax_{0}=b$\n",
    "\n",
    "Since we already showed that for $v_{1} = \\begin{pmatrix}\n",
    "    3 \\\\\n",
    "    -9 \\\\\n",
    "    1\n",
    "  \\end{pmatrix}$ we have:   $A v_{1} = \\vec{0}$ , \n",
    "\n",
    "$\\Rightarrow A (\\alpha v_{1} ) = \\vec{0}$  for any $\\alpha$ \n",
    "\n",
    "$\\Rightarrow Ax_{0} + A (\\alpha v_{1} ) = b $ for any $\\alpha$ \n",
    "\n",
    "$\\Rightarrow A (x_{0} + \\alpha v_{1} ) = b $ for any $\\alpha$ \n",
    "\n",
    "and therefore if there exists at least one solution $x_{0}$ for the equation $Ax=b$, then there exists infinite solutions of the form $(x_{0} + \\alpha v_{1} )$ for any $\\alpha$ "
   ]
  },
  {
   "cell_type": "markdown",
   "id": "77e22f75",
   "metadata": {},
   "source": [
    "## Using Python code"
   ]
  },
  {
   "cell_type": "code",
   "execution_count": 3,
   "id": "0efe5115",
   "metadata": {
    "scrolled": true
   },
   "outputs": [
    {
     "name": "stdout",
     "output_type": "stream",
     "text": [
      "A =\n",
      " [[-2  2 24]\n",
      " [-1  3 30]\n",
      " [ 2  0 -6]] \n",
      "\n",
      "The rank of matrix A: 2\n",
      "\n",
      "\n",
      "The null space of matrix A: [[-0.314485  0.943456 -0.104828]]\n",
      "\n",
      "\n",
      "The nullity of matrix A: 1\n"
     ]
    }
   ],
   "source": [
    "#We define the matrix A\n",
    "A = np.array([[-2,2,24],[-1,3,30],[2,0,-6]])\n",
    "print('A =\\n', A, '\\n')\n",
    "\n",
    "#We calculate the rank \n",
    "rank = np.linalg.matrix_rank(A)\n",
    "print(\"The rank of matrix A:\",rank)\n",
    "print(\"\\n\")\n",
    "\n",
    "#And we calculate a basis for the null space\n",
    "null_space = sl.null_space(A).T\n",
    "print(\"The null space of matrix A:\",null_space)\n",
    "print(\"\\n\")\n",
    "\n",
    "#We calculate the nullity of matrix A\n",
    "nullity = len(null_space)\n",
    "print(\"The nullity of matrix A:\", nullity )"
   ]
  },
  {
   "cell_type": "code",
   "execution_count": 4,
   "id": "fc48b667",
   "metadata": {},
   "outputs": [
    {
     "name": "stdout",
     "output_type": "stream",
     "text": [
      " Note that the null space of A is just the vector [3,-9,1] normalized to have norm 1. \n",
      "      Let v1 be the vector [3,-9,1] and v2 be the null space obtained here. \n",
      "      We will check that v2 multiplied by -sqrt(91) results in v1 \n",
      "\n",
      " Is v2 multiplied by -sqrt(91) equal to v1? : True\n",
      "\n",
      "\n",
      " Is v2 in the null space of A? : True\n",
      "\n",
      "\n",
      " Is v1 in the null space of A? : True\n"
     ]
    }
   ],
   "source": [
    "print(\"\"\" Note that the null space of A is just the vector [3,-9,1] normalized to have norm 1. \n",
    "      Let v1 be the vector [3,-9,1] and v2 be the null space obtained here. \n",
    "      We will check that v2 multiplied by -sqrt(91) results in v1 \\n\"\"\")\n",
    "\n",
    "v2 = null_space[0]\n",
    "v1 = np.array([3,-9,1])\n",
    "print(\"\"\" Is v2 multiplied by -sqrt(91) equal to v1? :\"\"\" , np.allclose(-np.sqrt(91)*v2,v1))\n",
    "print(\"\\n\")\n",
    "\n",
    "print(\"\"\" Is v2 in the null space of A? :\"\"\" , np.allclose( A.dot(v2.T),[0,0,0]) )\n",
    "print(\"\\n\")\n",
    "\n",
    "print(\"\"\" Is v1 in the null space of A? :\"\"\" , np.allclose( A.dot(v1.T),[0,0,0]) )"
   ]
  },
  {
   "cell_type": "markdown",
   "id": "0a99e2fb",
   "metadata": {},
   "source": [
    "# Solution to Question 1.C"
   ]
  },
  {
   "cell_type": "markdown",
   "id": "df8ebd4f",
   "metadata": {},
   "source": [
    "## Using \"pen and paper\""
   ]
  },
  {
   "cell_type": "markdown",
   "id": "19918f42",
   "metadata": {},
   "source": [
    "To diagonalize the matrix $A$ we need to find the eigenvalues and eigenvectors\n",
    "\n",
    "To find the eigenvalues we compute the determinant of $(A - \\lambda I)$ and find the roots of the polynomial.\n",
    "\n",
    "$$ \\quad\n",
    "det(A - \\lambda I) = det \\begin{pmatrix}\n",
    "-3-\\lambda & -2  \\\\\n",
    "3 & 4-\\lambda\n",
    "\\end{pmatrix}  = (-3-\\lambda)(4-\\lambda) + 6 = (\\lambda+3)(\\lambda-4) + 6 = \\lambda^{2} - \\lambda - 6 $$ \n",
    "\n",
    "\n",
    "$$ \\Rightarrow \\quad det(A - \\lambda I) = (\\lambda-3)(\\lambda+2) $$\n",
    "\n",
    "Now, we have the roots 3 and -2. \n",
    "By replacing $\\lambda$ with these numbers we can compute the corresponding eigenvectors. \n",
    "\n",
    "$\\lambda = 3:$ \n",
    "\n",
    "$$ \\quad \\quad\n",
    "(A - 3 I) = \\begin{pmatrix}\n",
    "-3-3 & -2  \\\\\n",
    "3 & 4-3\n",
    "\\end{pmatrix}\n",
    "= \\begin{pmatrix}\n",
    "-6 & -2  \\\\\n",
    "3 & 1\n",
    "\\end{pmatrix} $$\n",
    "\n",
    "$$ \\Rightarrow\n",
    "\\begin{pmatrix}\n",
    "-6 & -2  \\\\\n",
    "3 & 1\n",
    "\\end{pmatrix}\n",
    "\\vec{v_{1}}\n",
    "= \\begin{pmatrix}\n",
    "0  \\\\\n",
    "0\n",
    "\\end{pmatrix}\n",
    "\\Rightarrow \n",
    "\\vec{v_{1}} = \\begin{pmatrix}\n",
    "1  \\\\\n",
    "-3\n",
    "\\end{pmatrix}$$\n",
    "\n",
    "Normalizing the result we get\n",
    "$\\vec{v_{1}}/\\|v_{1}\\| = \\vec{v_{1}}/\\sqrt10 \\quad \\Rightarrow \\quad \\vec{v_{1}} = \\begin{pmatrix}\n",
    "1/\\sqrt10  \\\\\n",
    "-3/\\sqrt10\n",
    "\\end{pmatrix} $"
   ]
  },
  {
   "cell_type": "markdown",
   "id": "1da71f67",
   "metadata": {},
   "source": [
    "$\\lambda = -2:$ \n",
    "\n",
    "$$ \\quad \\quad\n",
    "(A + 2 I) = \\begin{pmatrix}\n",
    "-3+2 & -2  \\\\\n",
    "3 & 4+2\n",
    "\\end{pmatrix}\n",
    "= \\begin{pmatrix}\n",
    "-1 & -2  \\\\\n",
    "3 & 6\n",
    "\\end{pmatrix} \n",
    "$$\n",
    "\n",
    "$$ \\Rightarrow\n",
    "\\begin{pmatrix}\n",
    "-1 & -2  \\\\\n",
    "3 & 6\n",
    "\\end{pmatrix}\n",
    "\\vec{v_{2}}\n",
    "= \\begin{pmatrix}\n",
    "0  \\\\\n",
    "0\n",
    "\\end{pmatrix}\n",
    "\\Rightarrow \n",
    "\\vec{v_{2}} = \\begin{pmatrix}\n",
    "-2  \\\\\n",
    "1\n",
    "\\end{pmatrix} $$\n",
    "\n",
    "Normalizing the result we get\n",
    "$\\vec{v_{2}}/\\|v_{2}\\| = \\vec{v_{2}}/\\sqrt5 \\quad \\Rightarrow \\quad \\vec{v_{2}} = \\begin{pmatrix}\n",
    "-2/\\sqrt5  \\\\\n",
    "1/\\sqrt5\n",
    "\\end{pmatrix} $"
   ]
  },
  {
   "cell_type": "markdown",
   "id": "675362f4",
   "metadata": {},
   "source": [
    "Therefore the matrices $\\Lambda$ and $P$ can be constructed as:\n",
    "\n",
    " $$ P = [v_{1} \\quad v_{2}] \n",
    "\\quad \\quad \\Lambda = \\begin{pmatrix}\n",
    "3 & 0  \\\\\n",
    "0 & -2\n",
    "\\end{pmatrix} $$\n",
    "\n",
    "But (in order to get an identical result to the obtained by Python code in the followng cells) we will change the order of the vectors, and therefore\n",
    "\n",
    " $$ P = [v_{2} \\quad v_{1}] \\quad \\quad \n",
    "\\Lambda = \\begin{pmatrix}\n",
    "-2 & 0  \\\\\n",
    "0 & 3\n",
    "\\end{pmatrix} $$"
   ]
  },
  {
   "cell_type": "markdown",
   "id": "66fd6129",
   "metadata": {},
   "source": [
    "## Using Python code"
   ]
  },
  {
   "cell_type": "code",
   "execution_count": 5,
   "id": "52e1dd9a",
   "metadata": {},
   "outputs": [
    {
     "name": "stdout",
     "output_type": "stream",
     "text": [
      "A =\n",
      " [[-3 -2]\n",
      " [ 3  4]] \n",
      "\n",
      "Eigenvalues:  [-2.+0.j  3.+0.j]\n",
      "\n",
      "\n",
      "Eigenvectors:  [[-0.894427  0.316228]\n",
      " [ 0.447214 -0.948683]]\n",
      "\n",
      "\n",
      "Did we get the same result using pen and paper? : True\n",
      "\n",
      "\n",
      "Do we get matrix A if we multiply P*Lambda*inv(P)? : True\n"
     ]
    }
   ],
   "source": [
    "#We define the matrix A\n",
    "A = np.array([[-3,-2],[3,4]])\n",
    "print('A =\\n', A, '\\n')\n",
    "\n",
    "#We calculate the eigenvalues and eigenvectors\n",
    "lam, vecs = sl.eig(A)\n",
    "print(\"Eigenvalues: \" , lam)\n",
    "print(\"\\n\")\n",
    "print(\"Eigenvectors: \" , vecs)\n",
    "print(\"\\n\")\n",
    "\n",
    "Lambda_python = np.diag(np.real(lam) )\n",
    "P_python = vecs\n",
    "\n",
    "print(\"Did we get the same result using pen and paper? :\" , np.allclose(Lambda_python,np.array([[-2,0],[0,3]])) )\n",
    "print(\"\\n\")\n",
    "\n",
    "temp = P_python.dot(Lambda_python).dot(sl.inv(P_python))\n",
    "print(\"Do we get matrix A if we multiply P*Lambda*inv(P)? :\" , np.allclose(temp,A) )"
   ]
  },
  {
   "cell_type": "markdown",
   "id": "b5c6f38b",
   "metadata": {},
   "source": [
    "# Question 2.A\n",
    "\n",
    "Consider the two $(x,y)$ data points $(0,0.5)$ and $(1,1)$\n",
    "\n",
    "Derive by hand (\"pen and paper\") the Lagrange basis functions and thus the Lagrange polynomial that passes through these two points. Show (e.g. through a plot) that your result agrees with the result you can obtain using SciPy.\n",
    "\n",
    "# Question 2.B\n",
    "\n",
    "Now add a third point of your choosing at $x=0.3$ and repeat the above.\n",
    "\n",
    "# Question 2.C\n",
    "\n",
    "How can you add arbitrarily many additional points such that the Lagrange polynomial you have computed just now in the case of three data points is still an interpolant of all the data points? Give some examples."
   ]
  },
  {
   "cell_type": "code",
   "execution_count": 6,
   "id": "6e1e0ab0",
   "metadata": {},
   "outputs": [],
   "source": [
    "#import scipy.linalg as sl\n",
    "#from pprint import pprint\n",
    "\n",
    "%matplotlib inline\n",
    "import numpy as np\n",
    "import matplotlib.pyplot as plt\n",
    "# the following allows us to plot triangles indicating convergence order\n",
    "from mpltools import annotation\n",
    "# as this lecture is about interpolation we will make use of this SciPy library\n",
    "import scipy.interpolate as si\n",
    "import scipy.integrate"
   ]
  },
  {
   "cell_type": "markdown",
   "id": "85d38565",
   "metadata": {},
   "source": [
    "# Solution to Question 2.A\n",
    "\n",
    "## Using \"pen and paper\"\n",
    "\n",
    "We start by computing the Lagrange basis functions which are the polynomials that give 1 for each entry and 0 for all the others:\n",
    "\n",
    "The definition is as follows:\n",
    "\n",
    "$$\\ell_i(x) := \\prod_{\\begin{smallmatrix}0\\le m\\le N\\\\ m\\neq i\\end{smallmatrix}} \\frac{x-x_m}{x_i-x_m} = \\frac{(x-x_0)}{(x_i-x_0)} \\cdots \\frac{(x-x_{i-1})}{(x_i-x_{i-1})} \\frac{(x-x_{i+1})}{(x_i-x_{i+1})} \\cdots \\frac{(x-x_N)}{(x_i-x_N)} $$\n",
    "\n",
    "Therefore if we start with the data points:(0,0.5)  and (1,1) \n",
    "\n",
    "This means that $x_{0}=0$ , $y_{0}=0.5$ , $x_{1}=1$ and $y_{1}=1$ . And therefore \n",
    "\n",
    "$$\\ell_0(x) :=  \\frac{x-x_1}{x_0-x_1} = \\frac{x-1}{0-1} = 1-x$$\n",
    "\n",
    "$$\\ell_1(x) :=  \\frac{x-x_0}{x_1-x_0} = \\frac{x-0}{1-0} = x$$\n",
    "\n",
    "And using these basis functions we can compute the Lagrange polynomial\n",
    "\n",
    "$$ L(x) := \\sum_{i=0}^{N} y_i \\ell_i(x) = y_0 \\ell_0(x) + y_1 \\ell_1(x) = 0.5(1-x) + 1x = 0.5 + 0.5x $$\n",
    "\n",
    "$$ L(x) = 0.5x + 0.5 $$"
   ]
  },
  {
   "cell_type": "markdown",
   "id": "e17915f6",
   "metadata": {},
   "source": [
    "## Using Scipy code"
   ]
  },
  {
   "cell_type": "code",
   "execution_count": 7,
   "id": "22cc2736",
   "metadata": {},
   "outputs": [
    {
     "name": "stdout",
     "output_type": "stream",
     "text": [
      "The polynomial is   \n",
      "0.5 x + 0.5  which is the same as obtained previously\n",
      "\n",
      "\n",
      "We also show through a plot that the previous results (pen and paper) agree with the results obtained using SciPy.\n"
     ]
    }
   ],
   "source": [
    "### Our raw data\n",
    "xi = np.array([0 , 1])\n",
    "yi = np.array([0.5, 1])\n",
    "\n",
    "# Create the Lagrange polynomial for the given points.\n",
    "lp = si.lagrange(xi, yi)\n",
    "\n",
    "print(\"The polynomial is \", lp , \" which is the same as obtained previously\")\n",
    "print(\"\\n\")\n",
    "print(\"We also show through a plot that the previous results (pen and paper) agree with the results obtained using SciPy.\")"
   ]
  },
  {
   "cell_type": "code",
   "execution_count": 8,
   "id": "5b6e81f8",
   "metadata": {},
   "outputs": [],
   "source": [
    "def plot_raw_data(xi, yi, ax):\n",
    "    \"\"\"plot x vs y on axes ax, \n",
    "    add axes labels and turn on grid\n",
    "    \"\"\"\n",
    "    ax.plot(xi, yi, 'ko', label='raw data')\n",
    "    ax.set_xlabel('$x$', fontsize=16)\n",
    "    ax.set_ylabel('$y$', fontsize=16)\n",
    "    ax.grid(True)"
   ]
  },
  {
   "cell_type": "code",
   "execution_count": 9,
   "id": "2649fa87",
   "metadata": {},
   "outputs": [
    {
     "data": {
      "image/png": "[encoded data removed]",
      "text/plain": [
       "<Figure size 576x432 with 1 Axes>"
      ]
     },
     "metadata": {
      "needs_background": "light"
     },
     "output_type": "display_data"
    }
   ],
   "source": [
    "# Evaluate this function at a high resolution (100 points here) so that \n",
    "# we get a smooth well-resolved line when we plot our polynomial\n",
    "x = np.linspace(-1, 2, 100)\n",
    "\n",
    "# set up the figure\n",
    "fig = plt.figure(figsize=(8, 6))\n",
    "ax1 = fig.add_subplot(111)\n",
    "ax1.margins(0.1)\n",
    "\n",
    "# actually plot (x,y)=(x,lp(x)) on the axes with the label ax1\n",
    "ax1.plot(x, lp(x), 'b', label='Lagrange interpolating polynomial')\n",
    "\n",
    "#Plot the results obtained using \"pen and paper\"\n",
    "ax1.plot(x, lp(x), 'r', label='Results obtained using pen and paper')\n",
    "\n",
    "# Overlay raw data on the same axes\n",
    "plot_raw_data(xi, yi, ax1)\n",
    "ax1.set_title('Lagrange interpolating polynomial (SciPy)', fontsize=16)\n",
    "\n",
    "# Add a legend\n",
    "ax1.legend(loc='best', fontsize=14);"
   ]
  },
  {
   "cell_type": "markdown",
   "id": "97b69c8c",
   "metadata": {},
   "source": [
    "# Solution to Question 2.B\n",
    "\n",
    "## Using \"pen and paper\"\n",
    "\n",
    "We have a new data point (0.3 , 0.09)\n",
    "\n",
    "This means that $x_{0}=0$ , $y_{0}=0.5$ , $x_{1}=1$ , $y_{1}=1$ , $x_{2}=0.3$ , $y_{2}=0.09$ . And therefore \n",
    "\n",
    "$$\\ell_0(x) :=  \\frac{x-x_1}{x_0-x_1} \\frac{x-x_2}{x_0-x_2} = \\frac{x-1}{0-1} \\frac{x-0.3}{0-0.3} = \\frac{(x-1)(x-0.3)}{0.3}$$\n",
    "\n",
    "$$\\ell_1(x) :=  \\frac{x-x_0}{x_1-x_0} \\frac{x-x_2}{x_1-x_2} = \\frac{x-0}{1-0} \\frac{x-0.3}{1-0.3} = \\frac{x(x-0.3)}{0.7} $$\n",
    "\n",
    "$$\\ell_2(x) :=  \\frac{x-x_0}{x_2-x_0} \\frac{x-x_1}{x_2-x_1} = \\frac{x-0}{0.3-0} \\frac{x-1}{0.3-1} = \\frac{x(1-x)}{0.3(0.7)} = \\frac{x(1-x)}{0.21} $$\n",
    "\n",
    "And using these basis functions we can compute the Lagrange polynomial\n",
    "$$ L(x) := \\sum_{i=0}^{N} y_i \\ell_i(x) = y_0 \\ell_0(x) + y_1 \\ell_1(x) + y_2 \\ell_2(x) $$\n",
    "\n",
    "$$ L(x) =  0.5 \\frac{(x-1)(x-0.3)}{0.3} + 1 \\frac{x(x-0.3)}{0.7} + 0.09 \\frac{x(1-x)}{0.21}  $$\n",
    "\n",
    "$$ L(x) =  0.5 \\frac{(x-1)(10x-3)}{3} +  \\frac{x(10x-3)}{7} + 9 \\frac{x(1-x)}{21}  $$\n",
    "\n",
    "$$ L(x) =  3.5 \\frac{(x-1)(10x-3)}{21} +  \\frac{3x(10x-3)}{21} +  \\frac{9x(1-x)}{21}  $$\n",
    "\n",
    "$$ L(x) =  \\frac{56 x^{2} -13(3.5)x + 10.5 }{21} =  \\frac{8 x^{2} -13(0.5)x + 1.5 }{3} =  \\frac{16 x^{2} -13x + 3 }{6}  $$"
   ]
  },
  {
   "cell_type": "code",
   "execution_count": 10,
   "id": "9b77ff97",
   "metadata": {},
   "outputs": [
    {
     "name": "stdout",
     "output_type": "stream",
     "text": [
      "[ 2.666667 -2.166667  0.5     ]\n"
     ]
    }
   ],
   "source": [
    "coeffs_manual = np.array([16 ,-13 ,3])/6\n",
    "print(coeffs_manual)"
   ]
  },
  {
   "cell_type": "markdown",
   "id": "43bc37de",
   "metadata": {},
   "source": [
    "## Using Scipy code"
   ]
  },
  {
   "cell_type": "code",
   "execution_count": 11,
   "id": "bb1b2d1e",
   "metadata": {},
   "outputs": [
    {
     "name": "stdout",
     "output_type": "stream",
     "text": [
      "The polynomial is: \n",
      "        2\n",
      "2.667 x - 2.167 x + 0.5\n",
      "\n",
      "\n",
      "Is the polynomial obtained by Scipy the same as the obtained by pen and paper?: True\n"
     ]
    }
   ],
   "source": [
    "### Our raw data\n",
    "xi = np.array([0 , 1 , 0.3])\n",
    "yi = np.array([0.5, 1 , 0.09])\n",
    "\n",
    "# Create the Lagrange polynomial for the given points.\n",
    "lp = si.lagrange(xi, yi)\n",
    "\n",
    "print(\"The polynomial is: \\n\", lp)\n",
    "print(\"\\n\")\n",
    "print(\"Is the polynomial obtained by Scipy the same as the obtained by pen and paper?:\" \n",
    "      , np.allclose(coeffs_manual,lp))"
   ]
  },
  {
   "cell_type": "markdown",
   "id": "59343f5b",
   "metadata": {},
   "source": [
    "# Solution to Question 2.C\n",
    "\n",
    "It is possible to keep adding points and adjusting the Lagrange polynomial.\n",
    "However, in order for the current Lagrange polynomial to remain unchanged, the new points should already lay on it. \n",
    "\n",
    "$$ \\frac{16 x^{2} -13x + 3 }{6} $$\n",
    "\n",
    "For example lets add a new point to the original ones that already lies in the current Lagrange polynomial and check using Python that the Lagrange polynomial remains unchanged"
   ]
  },
  {
   "cell_type": "code",
   "execution_count": 12,
   "id": "53de520e",
   "metadata": {},
   "outputs": [
    {
     "name": "stdout",
     "output_type": "stream",
     "text": [
      "new data point: [0.2, 0.17333333333333334]\n"
     ]
    }
   ],
   "source": [
    "x3 = 0.2\n",
    "y3 = ( 16*(x3**2) - 13*x3 + 3 )/6\n",
    "print(\"new data point:\", [x3 , y3])"
   ]
  },
  {
   "cell_type": "code",
   "execution_count": 13,
   "id": "cf0105ef",
   "metadata": {},
   "outputs": [
    {
     "name": "stdout",
     "output_type": "stream",
     "text": [
      "The polynomial is: \n",
      "            3         2\n",
      "1.776e-15 x + 2.667 x - 2.167 x + 0.5\n"
     ]
    }
   ],
   "source": [
    "### Our raw data\n",
    "xi = np.array([0 , 1 , 0.3 , 0.2])\n",
    "yi = np.array([0.5, 1 , 0.09 , 0.17333333333333334 ])\n",
    "\n",
    "# Create the Lagrange polynomial for the given points.\n",
    "lp = si.lagrange(xi, yi)\n",
    "\n",
    "print(\"The polynomial is: \\n\", lp)"
   ]
  },
  {
   "cell_type": "code",
   "execution_count": 14,
   "id": "17ccf9d5",
   "metadata": {},
   "outputs": [
    {
     "name": "stdout",
     "output_type": "stream",
     "text": [
      "Is the polynomial obtained by Scipy the same as the one obtained by pen and paper?: True\n"
     ]
    }
   ],
   "source": [
    "upd_coeffs_manual = np.append([0],coeffs_manual)\n",
    "print(\"Is the polynomial obtained by Scipy the same as the one obtained by pen and paper?:\" , \n",
    "      np.allclose(upd_coeffs_manual,lp))"
   ]
  },
  {
   "cell_type": "markdown",
   "id": "175716cd",
   "metadata": {},
   "source": [
    "# Question 3.A\n",
    "\n",
    "\n",
    "Recall that the trapezoidal quadrature rule can be written as\n",
    "\n",
    "$$I_T := \\sum_{i=0}^{n-1}\\, \\left(\\frac{f(x_{i+1}) + f(x_{i})}{2}\\right )\\, (x_{i+1}-x_i). $$\n",
    "\n",
    "This provides an approximation to the integral of the function $f(x)$ over the interval spanned\n",
    "by the equally spaced $x_i$ locations, i.e. \n",
    "\n",
    "$$I_T\\approx \\int_{x_0}^{x_n} f(x)\\, dx.$$\n",
    "\n",
    "\n",
    "<br>\n",
    "\n",
    "Verify an implementation of this method by checking for convergence using the problem\n",
    "\n",
    "$$\\int_0^1 \\exp(x)\\, dx = \\exp(1) - \\exp(0) = \\exp(1) - 1$$\n",
    "\n",
    "\n",
    "# Question 3.B\n",
    "\n",
    "You should find that the Trapezoidal rule is second order accurate, i.e. the error reduces by a factor of 4 if we double the number of intervals (equivalently make the interval size half the size).\n",
    "\n",
    "This means that we can combine the results from two evaluations of the trapezoidal rule obtained using two different $\\Delta x$ values in order to cancel the leading order error term and arrive at a more accurate result.\n",
    "\n",
    "Using the notation $I_T$ for the output of the trapezoidal rule with $n$ intervals, and $I_{T_2}$ for the output with $2n$ intervals, explain why the result\n",
    "\n",
    "$$I = \\frac{1}{3}\\left( 4I_{T_2} - I_T \\right)$$\n",
    "\n",
    "can be expected to yield a more accurate approximation to the integral than either $I_T$ or $I_{T_2}$ alone. \n",
    "\n",
    "# Question 3.C\n",
    "\n",
    "Using the test case function from earlier in this question, \n",
    "\n",
    "$$\\int_0^1 \\exp(x)\\, dx = \\exp(1) - \\exp(0) = \\exp(1) - 1$$\n",
    "\n",
    "implement this method and demonstrate its improved accuracy.\n",
    "\n",
    "\n",
    "# Question 3.D\n",
    "\n",
    "Implement the composite version of Simpson's rule, and demonstrate that it provides results equivalent to the the new rule \n",
    "\n",
    "$$I = \\frac{1}{3}\\left( 4I_{T_2} - I_T \\right)$$\n",
    "\n",
    "\n",
    "# Question 3.E\n",
    "\n",
    "Demonstrate mathematically that the form of this new rule (i.e. in the form of the weighted summation of function evaluations it takes) is equivalent to Simpson's rule."
   ]
  },
  {
   "cell_type": "code",
   "execution_count": 15,
   "id": "4ce9b9ac",
   "metadata": {},
   "outputs": [],
   "source": [
    "%matplotlib inline\n",
    "import numpy as np\n",
    "import matplotlib.pyplot as plt\n",
    "# the following allows us to plot triangles indicating convergence order\n",
    "from mpltools import annotation\n",
    "# as this lecture is about interpolation we will make use of this SciPy library\n",
    "import scipy.interpolate as si\n",
    "import scipy.integrate\n",
    "\n",
    "# some default font sizes for plots\n",
    "plt.rcParams['font.size'] = 12\n",
    "plt.rcParams['font.family'] = 'sans-serif'\n",
    "plt.rcParams['font.sans-serif'] = ['Arial', 'Dejavu Sans']"
   ]
  },
  {
   "cell_type": "markdown",
   "id": "15945d55",
   "metadata": {},
   "source": [
    "# Solution to Question 3.A"
   ]
  },
  {
   "cell_type": "code",
   "execution_count": 16,
   "id": "fe62670f",
   "metadata": {},
   "outputs": [
    {
     "data": {
      "image/png": "[encoded data removed]",
      "text/plain": [
       "<Figure size 864x288 with 1 Axes>"
      ]
     },
     "metadata": {
      "needs_background": "light"
     },
     "output_type": "display_data"
    },
    {
     "name": "stdout",
     "output_type": "stream",
     "text": [
      "The sum of the areas of the trapezoids is (I_T): 1.718296147450\n"
     ]
    }
   ],
   "source": [
    "# this is a matplotlib function that allows us to plot polygons\n",
    "from matplotlib.patches import Polygon\n",
    "\n",
    "def f(x):\n",
    "    \"\"\"The function we wish to integrate\"\"\"\n",
    "    return np.exp(x)\n",
    "\n",
    "\n",
    "# Generate equally spaced values from 0 to 1.\n",
    "x = np.linspace(0, 1, 100)\n",
    "y = f(x)\n",
    "\n",
    "# plot\n",
    "fig = plt.figure(figsize=(12, 4))\n",
    "ax1 = plt.subplot(111)\n",
    "ax1.plot(x, y, 'b', lw=2)\n",
    "\n",
    "ax1.margins(0.1)\n",
    "\n",
    "# Label axis.\n",
    "ax1.set_xlabel('$x$', fontsize=16)\n",
    "ax1.set_ylabel('$\\exp(x)$', fontsize=16)\n",
    "ax1.set_title('Approximating function with trapezoids', fontsize=16)\n",
    "\n",
    "# Overlay a grid.\n",
    "ax1.grid(True)\n",
    "\n",
    "number_intervals = 100\n",
    "xi = np.linspace(0, 1, number_intervals+1)\n",
    "I_T = 0.0\n",
    "for i in range(number_intervals):\n",
    "    ax1.add_patch(Polygon(np.array([[xi[i], 0], [xi[i], f(xi[i])], [\n",
    "                  xi[i+1], f(xi[i+1])], [xi[i+1], 0]]), closed=True, fill=False, ls='--', color='k', lw=2))\n",
    "    I_T += ((f(xi[i+1]) + f(xi[i]))/2)*(xi[i+1] - xi[i])\n",
    "\n",
    "plt.show()\n",
    "print('The sum of the areas of the trapezoids is (I_T): {:.12f}'.format(I_T))"
   ]
  },
  {
   "cell_type": "code",
   "execution_count": 17,
   "id": "0c21ecc6",
   "metadata": {},
   "outputs": [
    {
     "name": "stdout",
     "output_type": "stream",
     "text": [
      "And the right solution is:  1.718281828459045\n"
     ]
    }
   ],
   "source": [
    "print(\"And the right solution is: \" , np.exp(1)-1)"
   ]
  },
  {
   "cell_type": "code",
   "execution_count": 18,
   "id": "d6711eef",
   "metadata": {},
   "outputs": [],
   "source": [
    "def trapezoidal_rule(a, b, function, number_intervals=100):\n",
    "    \"\"\" Function to evaluate Trapezoidal's rule. \n",
    "    \"\"\"\n",
    "\n",
    "    interval_size = (b - a)/number_intervals\n",
    "\n",
    "    assert interval_size > 0\n",
    "    assert type(number_intervals) == int\n",
    "\n",
    "    I_S = 0.0\n",
    "\n",
    "    # Loop to valuate Trapezoid's formula over each interval \n",
    "    for i in range(number_intervals):\n",
    "        # Find a, c, and b\n",
    "        this_bin_start = a + interval_size * (i)\n",
    "        #this_bin_mid = this_bin_start + interval_size/2\n",
    "        this_bin_end = this_bin_start + interval_size\n",
    "        # Calculate the rule and add to running total.\n",
    "        I_S += (interval_size/2) * ( function(this_bin_start) + function(this_bin_end) )\n",
    "\n",
    "    # Return our running total result\n",
    "    return I_S"
   ]
  },
  {
   "cell_type": "code",
   "execution_count": 19,
   "id": "23e56a35",
   "metadata": {},
   "outputs": [
    {
     "name": "stdout",
     "output_type": "stream",
     "text": [
      "The exact area found by direct integration = 2\n",
      "Area 1    for Trapezoidal = 1.8591409142295225 (error = 1.408590858e-01)\n",
      "Area 2    for Trapezoidal = 1.7539310924648255 (error = 3.564926401e-02)\n",
      "Area 4    for Trapezoidal = 1.7272219045575166 (error = 8.940076098e-03)\n",
      "Area 8    for Trapezoidal = 1.7205185921643018 (error = 2.236763705e-03)\n",
      "Area 16   for Trapezoidal = 1.7188411285799945 (error = 5.593001209e-04)\n",
      "Area 32   for Trapezoidal = 1.7184216603163271 (error = 1.398318573e-04)\n",
      "Area 100  for Trapezoidal = 1.7182961474504177 (error = 1.431899137e-05)\n",
      "Area 1000 for Trapezoidal = 1.7182819716491959 (error = 1.431901508e-07)\n",
      "Area 2000 for Trapezoidal = 1.7182818642565851 (error = 3.579754004e-08)\n"
     ]
    },
    {
     "data": {
      "image/png": "[encoded data removed]",
      "text/plain": [
       "<Figure size 504x504 with 1 Axes>"
      ]
     },
     "metadata": {
      "needs_background": "light"
     },
     "output_type": "display_data"
    }
   ],
   "source": [
    "def f(x):\n",
    "    \"\"\"The function we wish to integrate\"\"\"\n",
    "    return np.exp(x)\n",
    "\n",
    "# Now let's test the Trapezoidal's rule function.\n",
    "print(\"The exact area found by direct integration = 2\")\n",
    "interval_sizes_T = [1, 2, 4, 8, 16, 32, 100, 1000, 2000]\n",
    "errors_T = np.zeros_like(interval_sizes_T, dtype='float64')\n",
    "areas_T = np.zeros_like(interval_sizes_T, dtype='float64')\n",
    "\n",
    "for (i, number_intervals) in enumerate(interval_sizes_T):\n",
    "    areas_T[i] = trapezoidal_rule(0, 1, f, number_intervals)\n",
    "    errors_T[i] = abs(areas_T[i] - (np.exp(1)-1) )\n",
    "    print('Area {:<4d} for Trapezoidal = {:.16f} (error = {:.9e})'.format(\n",
    "        number_intervals, areas_T[i], errors_T[i]))\n",
    "\n",
    "# plot\n",
    "fig = plt.figure(figsize=(7, 7))\n",
    "ax1 = plt.subplot(111)\n",
    "#ax1.loglog(interval_sizes_S, errors_S, 'ro-', lw=2, label='Simpson')\n",
    "ax1.loglog(interval_sizes_T, errors_T, 'bo-', lw=2, label='Trapezoidal')\n",
    "ax1.set_xlabel('log(number_intervals)', fontsize=16)\n",
    "ax1.set_ylabel('log(error)', fontsize=16)\n",
    "ax1.set_title('Quadrature rule convergence', fontsize=16)\n",
    "ax1.legend(loc='best', fontsize=14)\n",
    "\n",
    "annotation.slope_marker((5e1, 5e-5), (-2, 1), invert=True, ax=ax1, \n",
    "                        size_frac=0.25, pad_frac=0.05, text_kwargs = dict(fontsize = 14))\n",
    "#annotation.slope_marker((5e1, 5e-9), (-2, 1), invert=True, ax=ax1, \n",
    "#                        size_frac=0.25, pad_frac=0.05, text_kwargs = dict(fontsize = 14));"
   ]
  },
  {
   "cell_type": "markdown",
   "id": "414ada4e",
   "metadata": {},
   "source": [
    "# Solution to Question 3.B\n",
    "\n",
    "This explanation is very similar to the one given in $\\textbf{Simpson's rule derivation}$ in Lecture 5\n",
    "\n",
    "Suppose $I_C$ indicates an unknown, but more accurate, estimate of the integral over an interval.  \n",
    "\n",
    "Then, as seen above, as $I_{T_2}$ has an error that is approximately $1/4$ times the error in $I_T$ , \n",
    "the following relation must hold approximately:\n",
    "\n",
    "$$I_C - I_{T_2} \\approx 1/4 \\left ( I_C - I_T \\right ).$$\n",
    "\n",
    "This follows from the fact that $ I - I_{T_2} \\approx 1/4 \\left ( I - I_T \\right )  $, provided that $I_C$ is closer to $I$ than either of the other two estimates.\n",
    "\n",
    "Replacing this approximately equals sign with actual equality defines $I_C$ for us in terms of things we know. \n",
    "\n",
    "We can rearrange this to give an expression for $I_C$ that yields a more accurate estimate of the integral than either $I_T$ or $I_{T_2}$:\n",
    "\n",
    "$$I_C - I_{T_2} \\approx 1/4 \\left ( I_C - I_T \\right ) \n",
    "\\Rightarrow 4 ( I_C - I_{T_2} ) \\approx  I_C - I_T $$\n",
    "$$ \\Rightarrow 4 I_C - 4 I_{T_2} \\approx  I_C - I_T \\Rightarrow 3 I_C  \\approx  4 I_{T_2} - I_T  $$\n",
    "\n",
    "$$\\Rightarrow \\quad I_C := \\frac{1}{3}\\left( 4I_{T_2} - I_T \\right)$$\n"
   ]
  },
  {
   "cell_type": "markdown",
   "id": "6dbe937b",
   "metadata": {},
   "source": [
    "# Solution to Question 3.C"
   ]
  },
  {
   "cell_type": "code",
   "execution_count": 20,
   "id": "4b9ef483",
   "metadata": {},
   "outputs": [],
   "source": [
    "def trapezoidal_rule_improved(a, b, function, number_intervals=100):\n",
    "    \"\"\" Function to evaluate Trapezoidal's rule. \n",
    "    \"\"\"\n",
    "\n",
    "    I_T = trapezoidal_rule(a, b, function, number_intervals)\n",
    "    I_T2 = trapezoidal_rule(a, b, function, (2*number_intervals) )\n",
    "    \n",
    "    I_TI = (1/3)*(4*I_T2 - I_T)\n",
    "\n",
    "    # Return our running total result\n",
    "    return I_TI"
   ]
  },
  {
   "cell_type": "code",
   "execution_count": 21,
   "id": "d46dffdf",
   "metadata": {},
   "outputs": [
    {
     "name": "stdout",
     "output_type": "stream",
     "text": [
      "The exact area found by direct integration = 2\n",
      "Area 1    for Trapezoidal = 1.8591409142295225 (error = 1.408590858e-01)\n",
      "Area 1    for Trapezoidal Improved = 1.7188611518765931 (error = 5.793234175e-04)\n",
      "Area 2    for Trapezoidal = 1.7539310924648255 (error = 3.564926401e-02)\n",
      "Area 2    for Trapezoidal Improved = 1.7183188419217468 (error = 3.701346270e-05)\n",
      "Area 4    for Trapezoidal = 1.7272219045575166 (error = 8.940076098e-03)\n",
      "Area 4    for Trapezoidal Improved = 1.7182841546998966 (error = 2.326240852e-06)\n",
      "Area 8    for Trapezoidal = 1.7205185921643018 (error = 2.236763705e-03)\n",
      "Area 8    for Trapezoidal Improved = 1.7182819740518920 (error = 1.455928469e-07)\n",
      "Area 16   for Trapezoidal = 1.7188411285799945 (error = 5.593001209e-04)\n",
      "Area 16   for Trapezoidal Improved = 1.7182818375617714 (error = 9.102726350e-09)\n",
      "Area 32   for Trapezoidal = 1.7184216603163271 (error = 1.398318573e-04)\n",
      "Area 32   for Trapezoidal Improved = 1.7182818290280155 (error = 5.689704263e-10)\n",
      "Area 100  for Trapezoidal = 1.7182961474504177 (error = 1.431899137e-05)\n",
      "Area 100  for Trapezoidal Improved = 1.7182818284650117 (error = 5.966560579e-12)\n",
      "Area 1000 for Trapezoidal = 1.7182819716491959 (error = 1.431901508e-07)\n",
      "Area 1000 for Trapezoidal Improved = 1.7182818284590482 (error = 3.108624469e-15)\n",
      "Area 2000 for Trapezoidal = 1.7182818642565851 (error = 3.579754004e-08)\n",
      "Area 2000 for Trapezoidal Improved = 1.7182818284590504 (error = 5.329070518e-15)\n"
     ]
    },
    {
     "data": {
      "image/png": "[encoded data removed]",
      "text/plain": [
       "<Figure size 504x504 with 1 Axes>"
      ]
     },
     "metadata": {
      "needs_background": "light"
     },
     "output_type": "display_data"
    }
   ],
   "source": [
    "def f(x):\n",
    "    \"\"\"The function we wish to integrate\"\"\"\n",
    "    return np.exp(x)\n",
    "\n",
    "# Now let's test the Trapezoidal's rule function.\n",
    "print(\"The exact area found by direct integration = 2\")\n",
    "interval_sizes_T = [1, 2, 4, 8, 16, 32, 100, 1000, 2000]\n",
    "errors_T = np.zeros_like(interval_sizes_T, dtype='float64')\n",
    "areas_T = np.zeros_like(interval_sizes_T, dtype='float64')\n",
    "\n",
    "interval_sizes_TI = interval_sizes_T.copy()\n",
    "errors_TI = errors_T.copy()\n",
    "areas_TI = areas_T.copy()\n",
    "\n",
    "for (i, number_intervals) in enumerate(interval_sizes_T):\n",
    "    areas_T[i] = trapezoidal_rule(0, 1, f, number_intervals)\n",
    "    errors_T[i] = abs(areas_T[i] - (np.exp(1)-1) )\n",
    "    \n",
    "    areas_TI[i] = trapezoidal_rule_improved(0, 1, f, number_intervals)\n",
    "    errors_TI[i] = abs(areas_TI[i] - (np.exp(1)-1) )\n",
    "    \n",
    "    print('Area {:<4d} for Trapezoidal = {:.16f} (error = {:.9e})'.format(\n",
    "        number_intervals, areas_T[i], errors_T[i]))\n",
    "    print('Area {:<4d} for Trapezoidal Improved = {:.16f} (error = {:.9e})'.format(\n",
    "        number_intervals, areas_TI[i], errors_TI[i]))\n",
    "    \n",
    "###   Here was the verification using Scipy\n",
    "\n",
    "# plot\n",
    "fig = plt.figure(figsize=(7, 7))\n",
    "ax1 = plt.subplot(111)\n",
    "#ax1.loglog(interval_sizes_S, errors_S, 'ro-', lw=2, label='Simpson')\n",
    "ax1.loglog(interval_sizes_T, errors_T, 'bo-', lw=2, label='Trapezoidal')\n",
    "ax1.loglog(interval_sizes_TI, errors_TI, 'ro-', lw=2, label='Trapezoidal Improved')\n",
    "ax1.set_xlabel('log(number_intervals)', fontsize=16)\n",
    "ax1.set_ylabel('log(error)', fontsize=16)\n",
    "ax1.set_title('Quadrature rule convergence', fontsize=16)\n",
    "ax1.legend(loc='best', fontsize=14)\n",
    "\n",
    "annotation.slope_marker((5e1, 5e-5), (-2, 1), invert=True, ax=ax1, \n",
    "                        size_frac=0.25, pad_frac=0.05, text_kwargs = dict(fontsize = 14))\n",
    "annotation.slope_marker((5e1, 1e-10), (-4, 1), invert=True, ax=ax1, \n",
    "                        size_frac=0.25, pad_frac=0.05, text_kwargs = dict(fontsize = 14));"
   ]
  },
  {
   "cell_type": "markdown",
   "id": "f7d195a1",
   "metadata": {},
   "source": [
    "# Solution to Question 3.D\n",
    "\n",
    "To implement Simpsons rule we will just copy the function already implemented in Lecture 5"
   ]
  },
  {
   "cell_type": "code",
   "execution_count": 22,
   "id": "6548c968",
   "metadata": {},
   "outputs": [],
   "source": [
    "def simpsons_rule(a, b, function, number_intervals=10):\n",
    "    \"\"\" Function to evaluate Simpson's rule. \n",
    "    \n",
    "    Note that this implementation takes the function as an argument, \n",
    "    and evaluates this at the midpoint of subintervals in addition to the \n",
    "    end point. Hence additional information is generated and used through \n",
    "    additional function evaluations. \n",
    "    \n",
    "    This is different to the function/implementation available with SciPy  \n",
    "    where discrete data only is passed to the function. \n",
    "    \n",
    "    Bear this in mind when comparing results - there will be a factor of two\n",
    "    in the definition of \"n\" we need to be careful about!\n",
    "    \n",
    "    Also note that this version of the function performs redundant function \n",
    "    evaluations - see the **composite** implementation below.\n",
    "    \"\"\"\n",
    "\n",
    "    interval_size = (b - a)/number_intervals\n",
    "\n",
    "    assert interval_size > 0\n",
    "    assert type(number_intervals) == int\n",
    "\n",
    "    I_S = 0.0\n",
    "\n",
    "    # Loop to valuate Simpson's formula over each interval \n",
    "    for i in range(number_intervals):\n",
    "        # Find a, c, and b\n",
    "        this_bin_start = a + interval_size * (i)\n",
    "        this_bin_mid = this_bin_start + interval_size/2\n",
    "        this_bin_end = this_bin_start + interval_size\n",
    "        # Calculate the rule and add to running total.\n",
    "        I_S += (interval_size/6) * (function(this_bin_start) +\n",
    "                                  4 * function(this_bin_mid) + function(this_bin_end))\n",
    "\n",
    "    # Return our running total result\n",
    "    return I_S"
   ]
  },
  {
   "cell_type": "code",
   "execution_count": 23,
   "id": "e8038a6c",
   "metadata": {},
   "outputs": [
    {
     "name": "stdout",
     "output_type": "stream",
     "text": [
      "The exact area found by direct integration = 2\n",
      "Area 1    for Trapezoidal = 1.7188611518765928 (error = 5.793234175e-04)\n",
      "Area 1    for Trapezoidal Improved = 1.7188611518765931 (error = 5.793234175e-04)\n",
      "Are the areas computed by Trapezoidal Improved and Simpsons rule the same? : True\n",
      "Area 2    for Trapezoidal = 1.7183188419217472 (error = 3.701346270e-05)\n",
      "Area 2    for Trapezoidal Improved = 1.7183188419217468 (error = 3.701346270e-05)\n",
      "Are the areas computed by Trapezoidal Improved and Simpsons rule the same? : True\n",
      "Area 4    for Trapezoidal = 1.7182841546998968 (error = 2.326240852e-06)\n",
      "Area 4    for Trapezoidal Improved = 1.7182841546998966 (error = 2.326240852e-06)\n",
      "Are the areas computed by Trapezoidal Improved and Simpsons rule the same? : True\n",
      "Area 8    for Trapezoidal = 1.7182819740518913 (error = 1.455928462e-07)\n",
      "Area 8    for Trapezoidal Improved = 1.7182819740518920 (error = 1.455928469e-07)\n",
      "Are the areas computed by Trapezoidal Improved and Simpsons rule the same? : True\n",
      "Area 16   for Trapezoidal = 1.7182818375617717 (error = 9.102726573e-09)\n",
      "Area 16   for Trapezoidal Improved = 1.7182818375617714 (error = 9.102726350e-09)\n",
      "Are the areas computed by Trapezoidal Improved and Simpsons rule the same? : True\n",
      "Area 32   for Trapezoidal = 1.7182818290280153 (error = 5.689702043e-10)\n",
      "Area 32   for Trapezoidal Improved = 1.7182818290280155 (error = 5.689704263e-10)\n",
      "Are the areas computed by Trapezoidal Improved and Simpsons rule the same? : True\n",
      "Area 100  for Trapezoidal = 1.7182818284650119 (error = 5.966782624e-12)\n",
      "Area 100  for Trapezoidal Improved = 1.7182818284650117 (error = 5.966560579e-12)\n",
      "Are the areas computed by Trapezoidal Improved and Simpsons rule the same? : True\n",
      "Area 1000 for Trapezoidal = 1.7182818284590442 (error = 8.881784197e-16)\n",
      "Area 1000 for Trapezoidal Improved = 1.7182818284590482 (error = 3.108624469e-15)\n",
      "Are the areas computed by Trapezoidal Improved and Simpsons rule the same? : True\n",
      "Area 2000 for Trapezoidal = 1.7182818284590451 (error = 0.000000000e+00)\n",
      "Area 2000 for Trapezoidal Improved = 1.7182818284590504 (error = 5.329070518e-15)\n",
      "Are the areas computed by Trapezoidal Improved and Simpsons rule the same? : True\n"
     ]
    },
    {
     "data": {
      "image/png": "[encoded data removed]",
      "text/plain": [
       "<Figure size 504x504 with 1 Axes>"
      ]
     },
     "metadata": {
      "needs_background": "light"
     },
     "output_type": "display_data"
    }
   ],
   "source": [
    "def f(x):\n",
    "    \"\"\"The function we wish to integrate\"\"\"\n",
    "    return np.exp(x)\n",
    "\n",
    "# Now let's test the Trapezoidal's rule function.\n",
    "print(\"The exact area found by direct integration = 2\")\n",
    "interval_sizes_S = [1, 2, 4, 8, 16, 32, 100, 1000, 2000]\n",
    "errors_S = np.zeros_like(interval_sizes_T, dtype='float64')\n",
    "areas_S = np.zeros_like(interval_sizes_T, dtype='float64')\n",
    "\n",
    "interval_sizes_TI = interval_sizes_S.copy()\n",
    "errors_TI = errors_S.copy()\n",
    "areas_TI = areas_S.copy()\n",
    "\n",
    "for (i, number_intervals) in enumerate(interval_sizes_T):\n",
    "    areas_S[i] = simpsons_rule(0, 1, f, number_intervals)\n",
    "    errors_S[i] = abs(areas_S[i] - (np.exp(1)-1) )\n",
    "    \n",
    "    areas_TI[i] = trapezoidal_rule_improved(0, 1, f, number_intervals)\n",
    "    errors_TI[i] = abs(areas_TI[i] - (np.exp(1)-1) )\n",
    "    \n",
    "    print('Area {:<4d} for Trapezoidal = {:.16f} (error = {:.9e})'.format(\n",
    "        number_intervals, areas_S[i], errors_S[i]))\n",
    "    print('Area {:<4d} for Trapezoidal Improved = {:.16f} (error = {:.9e})'.format(\n",
    "        number_intervals, areas_TI[i], errors_TI[i]))\n",
    "    print(\"Are the areas computed by Trapezoidal Improved and Simpsons rule the same? :\",\n",
    "         np.allclose(areas_S[i],areas_TI[i]))\n",
    "    \n",
    "###   Here was the verification using Scipy\n",
    "\n",
    "# plot\n",
    "fig = plt.figure(figsize=(7, 7))\n",
    "ax1 = plt.subplot(111)\n",
    "ax1.loglog(interval_sizes_S, errors_S, 'go-', lw=2, label='Simpson')\n",
    "ax1.loglog(interval_sizes_TI, errors_TI, 'ro-', lw=2, label='Trapezoidal Improved')\n",
    "ax1.set_xlabel('log(number_intervals)', fontsize=16)\n",
    "ax1.set_ylabel('log(error)', fontsize=16)\n",
    "ax1.set_title('Quadrature rule convergence', fontsize=16)\n",
    "ax1.legend(loc='best', fontsize=14)\n",
    "\n",
    "annotation.slope_marker((5e1, 1e-10), (-4, 1), invert=True, ax=ax1, \n",
    "                        size_frac=0.25, pad_frac=0.05, text_kwargs = dict(fontsize = 14));"
   ]
  },
  {
   "cell_type": "markdown",
   "id": "a60fc5a8",
   "metadata": {},
   "source": [
    "# Solution to Question 3.E\n",
    "\n",
    "Suppose $L$ is the length of the region we want to integrate and $n$ is the number of intervals.\n",
    "Calculating $I_T$ is easy:\n",
    "\n",
    "$$I_T := \\sum_{i=0}^{n-1}\\,   \\left(\\frac{f(x_{i+1}) + f(x_{i})}{2}\\right )\\, (x_{i+1}-x_i)\n",
    "= \\frac{L}{2n} \\sum_{i=0}^{n-1}\\,  f(x_{i+1}) + f(x_{i})\n",
    "$$\n",
    "\n",
    "However, now that we want to compute $I_T$ and $I_{T_2}$, we will have to double the amount of data points used. We do so with equal spacing and we rename the data points from $x_{i}$ to $y_{j}$. Therefore, we now have $k = 2n$ data points. \n",
    "\n",
    "Note that the $y_{j}$'s with even $j$ correspond to the old $x_{i}$'s , and the $y_{j}$ with odd $j$ are just new points that did not appear before in $I_T$. \n",
    "\n",
    "$$I_T := \\sum_{j=0; j \\space even}^{k-1}\\,   \\left(\\frac{f(y_{j+2}) + f(y_{j})}{2}\\right )\\, (y_{j+2}-y_j)\n",
    "= \\frac{L}{2n} \\sum_{j=0; j \\space even}^{k-1}\\,  f(y_{j+2}) + f(y_{j})\n",
    "$$\n",
    "\n",
    "$$I_{T_{2}} := \\sum_{j=0}^{k-1}\\,   \\left(\\frac{f(y_{j+1}) + f(y_{j})}{2}\\right )\\, (y_{j+1}-y_j)\n",
    "= \\frac{L}{4n} \\sum_{j=0}^{k-1}\\,  f(y_{j+1}) + f(y_{j})\n",
    "$$\n",
    "\n",
    "<br> <br>\n",
    "Using these two equations we compute $I_C$:\n",
    "\n",
    "$$ \\quad I_C := \\frac{1}{3}\\left( 4I_{T_2} - I_T \\right) = \\frac{1}{3}\\left(  \\frac{L}{n} \\sum_{j=0}^{k-1}\\,  f(y_{j+1}) + f(y_{j}) - \\frac{L}{2n} \\sum_{j=0; j \\space even}^{k-1}\\,  f(y_{j+2}) + f(y_{j}) \\right)$$\n",
    "\n",
    "$$\\Rightarrow \\quad I_C := \\frac{1}{6}\\left(  \\frac{2L}{n} \\sum_{j=0}^{k-1}\\,  f(y_{j+1}) + f(y_{j}) - \\frac{L}{n} \\sum_{j=0; j \\space even}^{k-1}\\,  f(y_{j+2}) + f(y_{j}) \\right)$$\n",
    "\n",
    "$$\\Rightarrow \\quad I_C := \\frac{L}{6n}\\left(   \\sum_{j=0}^{k-1}\\,  2f(y_{j+1}) + 2f(y_{j}) -  \\sum_{j=0; j \\space even}^{k-1}\\,  f(y_{j+2}) + f(y_{j}) \\right)$$\n",
    "\n",
    "$$\\Rightarrow \\quad I_C := \\frac{L}{6n}\\left(   \n",
    "\\left( \\sum_{j=0}^{k-1}\\,  2f(y_{j+1}) + 2f(y_{j}) \\right) - \n",
    "\\left( \\sum_{j=0; j \\space even}^{k-1}\\,  f(y_{j+2}) + f(y_{j}) \\right)\n",
    "\\right)$$\n",
    "\n",
    "$$\\Rightarrow \\quad I_C := \\frac{L}{6n}\\left( \n",
    "\\left( 2f(y_{0}) + 2f(y_{k}) + \\sum_{j=1}^{k-1}\\,  4f(y_{j}) \\right)\n",
    "- \\left( f(y_{0}) + f(y_{k}) + \\sum_{j=2; j \\space even}^{k-2}\\, 2f(y_{j}) \\right)\n",
    "\\right) $$\n",
    "\n",
    "$$\\Rightarrow \\quad I_C := \\frac{L}{6n}\\left( \n",
    " f(y_{0}) + f(y_{k}) + \\sum_{j=1}^{k-1}\\,  4f(y_{j})\n",
    "-  \\sum_{j=2; j \\space even}^{k-2}\\, 2f(y_{j}) \n",
    "\\right) $$\n",
    "\n",
    "$$\\Rightarrow \\quad I_C := \\frac{L}{6n}\\left( \n",
    " f(y_{0}) + f(y_{k}) + \\sum_{j=1; j \\space odd }^{k-1}\\,  4f(y_{j})\n",
    "+  \\sum_{j=2; j \\space even}^{k-2}\\, 2f(y_{j}) \n",
    "\\right) $$\n",
    "\n",
    "$$\\Rightarrow \\quad I_C := \\frac{L}{6n}\\left( \n",
    " \\sum_{j=1; j \\space odd }^{k-1}\\,  4f(y_{j})\n",
    "+  \\left( f(y_{0}) + \\sum_{j=2; j \\space even}^{k-2}\\, f(y_{j}) \\right)\n",
    "+ \\left( f(y_{k}) + \\sum_{j=2; j \\space even}^{k-2}\\, f(y_{j}) \\right)\n",
    "\\right) $$\n",
    "\n",
    "$$\\Rightarrow \\quad I_C := \\frac{L}{6n}\\left( \n",
    " \\sum_{j=1; j \\space odd }^{k-1}\\,  4f(y_{j})\n",
    "+  \\left(  \\sum_{j=0; j \\space even}^{k-2}\\, f(y_{j}) \\right)\n",
    "+ \\left(  \\sum_{j=2; j \\space even}^{k}\\, f(y_{j}) \\right)\n",
    "\\right) $$\n",
    "\n",
    "$$\\Rightarrow \\quad I_C := \\frac{L}{6n}\\left( \n",
    " \\sum_{j=1; j \\space odd }^{k-1}\\,  \\left( 4f(y_{j}) + f(y_{j-1}) + f(y_{j+1})\\right)\n",
    "\\right) $$\n",
    "\n",
    "$$\\Rightarrow \\quad I_C := \\frac{L}{6n}\\left( \n",
    " \\sum_{j=0; j \\space even }^{k-2}\\,  \\left( f(y_{j}) + 4f(y_{j+1}) + f(y_{j+2})\\right)\n",
    "\\right) $$\n",
    "\n",
    "which is exactly what we know as Simpson's rule. "
   ]
  },
  {
   "cell_type": "code",
   "execution_count": null,
   "id": "c33231d5",
   "metadata": {},
   "outputs": [],
   "source": []
  },
  {
   "cell_type": "code",
   "execution_count": null,
   "id": "fc3ccc3e",
   "metadata": {},
   "outputs": [],
   "source": []
  },
  {
   "cell_type": "code",
   "execution_count": null,
   "id": "87a3c4f4",
   "metadata": {},
   "outputs": [],
   "source": []
  }
 ],
 "metadata": {
  "kernelspec": {
   "display_name": "Python 3",
   "language": "python",
   "name": "python3"
  },
  "language_info": {
   "codemirror_mode": {
    "name": "ipython",
    "version": 3
   },
   "file_extension": ".py",
   "mimetype": "text/x-python",
   "name": "python",
   "nbconvert_exporter": "python",
   "pygments_lexer": "ipython3",
   "version": "3.8.8"
  }
 },
 "nbformat": 4,
 "nbformat_minor": 5
}
